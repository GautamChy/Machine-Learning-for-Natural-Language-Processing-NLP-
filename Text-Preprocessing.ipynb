{
 "cells": [
  {
   "cell_type": "markdown",
   "id": "e30ef391-caed-4221-b3b7-8a16abe23655",
   "metadata": {},
   "source": [
    "# Stemming\n",
    "Stemming is the process of reducing a word to its word stem that affixes to suffixes and prefixes or to the roots of words known as a lemma. Stemming is important in natural language understanding (NLU) and natural language processing (NLP)."
   ]
  },
  {
   "cell_type": "code",
   "execution_count": 5,
   "id": "a62805a0-cb36-47cb-8fb0-55ca08445761",
   "metadata": {},
   "outputs": [],
   "source": [
    "## Classification Problem\n",
    "## Comments of product is a positive review or negative review\n",
    "## Reviews----> eating, eat,eaten [going,gone,goes]--->go"
   ]
  },
  {
   "cell_type": "markdown",
   "id": "fc4725f8-e6f8-458f-878a-734284bedce6",
   "metadata": {},
   "source": [
    "### PorterStemmer\n",
    " (Search on google www.PorterStemmer) \n",
    "    and see the Greeksforgreek site."
   ]
  },
  {
   "cell_type": "code",
   "execution_count": 12,
   "id": "8cbe680d-f4b1-48f1-80ee-24759877ee0a",
   "metadata": {},
   "outputs": [],
   "source": [
    "import nltk\n",
    "from nltk.stem import PorterStemmer"
   ]
  },
  {
   "cell_type": "code",
   "execution_count": 15,
   "id": "5029ad81-3d05-4517-a4c1-ac99dd2bf274",
   "metadata": {},
   "outputs": [],
   "source": [
    "## Create a porter stemmer variable\n",
    "stemming= PorterStemmer()"
   ]
  },
  {
   "cell_type": "code",
   "execution_count": 17,
   "id": "84227f66-6ede-40cf-ad2f-db6b4f1a90a6",
   "metadata": {},
   "outputs": [
    {
     "name": "stdout",
     "output_type": "stream",
     "text": [
      "eating---->eat\n",
      "eats---->eat\n",
      "eaten---->eaten\n",
      "writing---->write\n",
      "writes---->write\n",
      "programming---->program\n",
      "programs---->program\n",
      "history---->histori\n",
      "finally---->final\n",
      "finalized---->final\n"
     ]
    }
   ],
   "source": [
    "## Example words for PorterStemming:\n",
    "words=[\"eating\",\"eats\",\"eaten\",\"writing\",\"writes\",\"programming\",\"programs\",\"history\",\"finally\",\"finalized\"]\n",
    "\n",
    "for word in words:\n",
    "    print(word+\"---->\"+stemming.stem(word))"
   ]
  },
  {
   "cell_type": "code",
   "execution_count": 19,
   "id": "32cd31af-4f9d-4570-a51e-1e0f849cad9d",
   "metadata": {},
   "outputs": [
    {
     "data": {
      "text/plain": [
       "'congratul'"
      ]
     },
     "execution_count": 19,
     "metadata": {},
     "output_type": "execute_result"
    }
   ],
   "source": [
    "## Example02 \n",
    "stemming.stem('congratulations')"
   ]
  },
  {
   "cell_type": "code",
   "execution_count": 20,
   "id": "6e50c00b-6785-43b9-8ca8-7135e9001c07",
   "metadata": {},
   "outputs": [
    {
     "data": {
      "text/plain": [
       "'sit'"
      ]
     },
     "execution_count": 20,
     "metadata": {},
     "output_type": "execute_result"
    }
   ],
   "source": [
    "## Example03 \n",
    "stemming.stem('sitting')"
   ]
  },
  {
   "cell_type": "markdown",
   "id": "8fe8e305-dac6-49b8-84bc-f7d3a5c85a1c",
   "metadata": {},
   "source": [
    "### RegexpStemmer class\n",
    "NLTK has RegexpStemmer class with the help of which we can easily implement Regular Expression Stemmer algorithms. It basically takes a single regular expression and removes any prefix or suffix that matches the expression. Let us see an example\n",
    "\n",
    "NOTE: Search on google www.Stemming.com and visit Greeksforgreek site and then see the all Stemmer."
   ]
  },
  {
   "cell_type": "code",
   "execution_count": 29,
   "id": "8bc21c79-ac9d-4678-82c5-11cd559395e5",
   "metadata": {},
   "outputs": [],
   "source": [
    "import nltk\n",
    "from nltk.stem import RegexpStemmer"
   ]
  },
  {
   "cell_type": "code",
   "execution_count": 30,
   "id": "42b40218-2c48-406c-90a8-4609e917f1a2",
   "metadata": {},
   "outputs": [],
   "source": [
    "## Create a Regexstemmer variable\n",
    "reg_stemmer= RegexpStemmer('ing$|s$|e$|able$',min=4) ## ing,s,e,able = It means remove the last word when it comes but $ is compulsaory."
   ]
  },
  {
   "cell_type": "code",
   "execution_count": 33,
   "id": "71ca4f89-aa70-4195-8e98-e1dcfa346581",
   "metadata": {},
   "outputs": [
    {
     "data": {
      "text/plain": [
       "'eat'"
      ]
     },
     "execution_count": 33,
     "metadata": {},
     "output_type": "execute_result"
    }
   ],
   "source": [
    "## Example01\n",
    "reg_stemmer.stem('eating') #### Regex always remove only last word."
   ]
  },
  {
   "cell_type": "code",
   "execution_count": 34,
   "id": "43ea6060-26ed-4979-8af4-b67543340d75",
   "metadata": {},
   "outputs": [
    {
     "data": {
      "text/plain": [
       "'ingeat'"
      ]
     },
     "execution_count": 34,
     "metadata": {},
     "output_type": "execute_result"
    }
   ],
   "source": [
    "## Example02\n",
    "reg_stemmer.stem('ingeating') ## Regex always remove only last word."
   ]
  },
  {
   "cell_type": "code",
   "execution_count": 35,
   "id": "37d0d24f-ced3-4f6c-aedf-ef39b65fc603",
   "metadata": {},
   "outputs": [
    {
     "data": {
      "text/plain": [
       "'prize'"
      ]
     },
     "execution_count": 35,
     "metadata": {},
     "output_type": "execute_result"
    }
   ],
   "source": [
    "## Example 03\n",
    "reg_stemmer.stem('prizes') #### Regex always remove only last word."
   ]
  },
  {
   "cell_type": "code",
   "execution_count": 36,
   "id": "b5499b01-ad21-4e1c-9325-94eddd01dd38",
   "metadata": {},
   "outputs": [
    {
     "data": {
      "text/plain": [
       "'sprize'"
      ]
     },
     "execution_count": 36,
     "metadata": {},
     "output_type": "execute_result"
    }
   ],
   "source": [
    "## Example 04\n",
    "reg_stemmer.stem('sprizes') #### Regex always remove only last word."
   ]
  },
  {
   "cell_type": "markdown",
   "id": "aaf66b61-918d-4760-91cb-ea4a01c2b579",
   "metadata": {},
   "source": [
    "### Snowball Stemmer\n",
    " It is a stemming algorithm which is also known as the Porter2 stemming algorithm as it is a better version of the Porter Stemmer since some issues of it were fixed in this stemmer.\n",
    "\n",
    "NOTE: Search on google www.Stemming.com and visit Greeksforgreek site and then see the all Stemmer."
   ]
  },
  {
   "cell_type": "code",
   "execution_count": 40,
   "id": "0b779498-b145-481f-8ce4-493832896c01",
   "metadata": {},
   "outputs": [],
   "source": [
    "import nltk\n",
    "from nltk.stem import SnowballStemmer"
   ]
  },
  {
   "cell_type": "code",
   "execution_count": 41,
   "id": "ad162b54-ff9b-42d9-b88b-a646abb6c32b",
   "metadata": {},
   "outputs": [],
   "source": [
    "## Create a Snowball stemmer variable\n",
    "snowballstemmer= SnowballStemmer('english')\n"
   ]
  },
  {
   "cell_type": "code",
   "execution_count": 42,
   "id": "5c162c63-8dd8-4e93-adb5-312371b46df1",
   "metadata": {},
   "outputs": [
    {
     "name": "stdout",
     "output_type": "stream",
     "text": [
      "eating---->eat\n",
      "eats---->eat\n",
      "eaten---->eaten\n",
      "writing---->write\n",
      "writes---->write\n",
      "programming---->program\n",
      "programs---->program\n",
      "history---->histori\n",
      "finally---->final\n",
      "finalized---->final\n"
     ]
    }
   ],
   "source": [
    "## Example words for Snowballstemmer:\n",
    "words=[\"eating\",\"eats\",\"eaten\",\"writing\",\"writes\",\"programming\",\"programs\",\"history\",\"finally\",\"finalized\"]\n",
    "\n",
    "for word in words:\n",
    "    print(word+\"---->\"+snowballstemmer.stem(word))"
   ]
  },
  {
   "cell_type": "code",
   "execution_count": 43,
   "id": "d20fa242-a7e0-4a7b-9ad2-c2077e9f9d79",
   "metadata": {},
   "outputs": [
    {
     "data": {
      "text/plain": [
       "('fairli', 'sportingli')"
      ]
     },
     "execution_count": 43,
     "metadata": {},
     "output_type": "execute_result"
    }
   ],
   "source": [
    "stemming.stem('fairly'), stemming.stem('sportingly')"
   ]
  },
  {
   "cell_type": "code",
   "execution_count": 44,
   "id": "7b44422f-add1-4d6b-9ae2-06ad6222613b",
   "metadata": {},
   "outputs": [
    {
     "data": {
      "text/plain": [
       "('fair', 'sport')"
      ]
     },
     "execution_count": 44,
     "metadata": {},
     "output_type": "execute_result"
    }
   ],
   "source": [
    "snowballstemmer.stem('fairly'), snowballstemmer.stem('sportingly') ## The result is better then Porter stemmer."
   ]
  },
  {
   "cell_type": "code",
   "execution_count": null,
   "id": "c6425d44-d034-4a4d-95bb-7768ea6708bd",
   "metadata": {},
   "outputs": [],
   "source": []
  }
 ],
 "metadata": {
  "kernelspec": {
   "display_name": "Python [conda env:base] *",
   "language": "python",
   "name": "conda-base-py"
  },
  "language_info": {
   "codemirror_mode": {
    "name": "ipython",
    "version": 3
   },
   "file_extension": ".py",
   "mimetype": "text/x-python",
   "name": "python",
   "nbconvert_exporter": "python",
   "pygments_lexer": "ipython3",
   "version": "3.13.5"
  }
 },
 "nbformat": 4,
 "nbformat_minor": 5
}
